{
 "cells": [
  {
   "cell_type": "code",
   "execution_count": 5,
   "metadata": {},
   "outputs": [
    {
     "ename": "NeptuneApiTokenNotProvided",
     "evalue": "\n\u001b[95mNeptuneApiTokenNotProvided: The Neptune API token was not provided.\u001b[0m\n\nMake sure to specify a valid token in one of the following ways:\n\n- Call the `set_api_token()` function\n- Create a Context with the API token and pass it to the `context` argument of the fetching method\n- Set the `NEPTUNE_API_TOKEN` environment variable\n\nFor details, see https://docs.neptune.ai/fetcher_setup\n",
     "output_type": "error",
     "traceback": [
      "\u001b[31m---------------------------------------------------------------------------\u001b[39m",
      "\u001b[31mNeptuneApiTokenNotProvided\u001b[39m                Traceback (most recent call last)",
      "\u001b[36mCell\u001b[39m\u001b[36m \u001b[39m\u001b[32mIn[5]\u001b[39m\u001b[32m, line 7\u001b[39m\n\u001b[32m      1\u001b[39m \u001b[38;5;28;01mimport\u001b[39;00m\u001b[38;5;250m \u001b[39m\u001b[34;01mneptune_fetcher\u001b[39;00m\u001b[34;01m.\u001b[39;00m\u001b[34;01malpha\u001b[39;00m\u001b[38;5;250m \u001b[39m\u001b[38;5;28;01mas\u001b[39;00m\u001b[38;5;250m \u001b[39m\u001b[34;01mnpt\u001b[39;00m\n\u001b[32m      3\u001b[39m context = npt.Context(\n\u001b[32m      4\u001b[39m     project=\u001b[33m\"\u001b[39m\u001b[33mneptune/class-conditioned-difussion\u001b[39m\u001b[33m\"\u001b[39m,\n\u001b[32m      5\u001b[39m )\n\u001b[32m----> \u001b[39m\u001b[32m7\u001b[39m metrics_df = \u001b[43mnpt\u001b[49m\u001b[43m.\u001b[49m\u001b[43mfetch_metrics\u001b[49m\u001b[43m(\u001b[49m\n\u001b[32m      8\u001b[39m \u001b[43m    \u001b[49m\u001b[43mcontext\u001b[49m\u001b[43m=\u001b[49m\u001b[43mcontext\u001b[49m\u001b[43m,\u001b[49m\n\u001b[32m      9\u001b[39m \u001b[43m    \u001b[49m\u001b[43mexperiments\u001b[49m\u001b[43m=\u001b[49m\u001b[33;43m\"\u001b[39;49m\u001b[33;43mdebug-001\u001b[39;49m\u001b[33;43m\"\u001b[39;49m\u001b[43m,\u001b[49m\n\u001b[32m     10\u001b[39m \u001b[43m    \u001b[49m\u001b[43minclude_point_previews\u001b[49m\u001b[43m=\u001b[49m\u001b[38;5;28;43;01mTrue\u001b[39;49;00m\u001b[43m,\u001b[49m\n\u001b[32m     11\u001b[39m \u001b[43m    \u001b[49m\u001b[43mattributes\u001b[49m\u001b[43m=\u001b[49m\u001b[43m[\u001b[49m\n\u001b[32m     12\u001b[39m \u001b[43m        \u001b[49m\u001b[33;43m\"\u001b[39;49m\u001b[33;43mevals/is_digit/scores/avg\u001b[39;49m\u001b[33;43m\"\u001b[39;49m\u001b[43m,\u001b[49m\n\u001b[32m     13\u001b[39m \u001b[43m        \u001b[49m\u001b[33;43m\"\u001b[39;49m\u001b[33;43mevals/correct_digit/scores/avg\u001b[39;49m\u001b[33;43m\"\u001b[39;49m\u001b[43m,\u001b[49m\n\u001b[32m     14\u001b[39m \u001b[43m        \u001b[49m\u001b[33;43m\"\u001b[39;49m\u001b[33;43mevals/hand_writing/scores/avg\u001b[39;49m\u001b[33;43m\"\u001b[39;49m\u001b[43m,\u001b[49m\n\u001b[32m     15\u001b[39m \u001b[43m    \u001b[49m\u001b[43m]\u001b[49m\u001b[43m,\u001b[49m\n\u001b[32m     16\u001b[39m \u001b[43m)\u001b[49m\n\u001b[32m     18\u001b[39m metrics_df.head()\n",
      "\u001b[36mFile \u001b[39m\u001b[32m~/Desktop/Git/neptune-github/scale-examples/.env/lib/python3.13/site-packages/neptune_fetcher/alpha/__init__.py:154\u001b[39m, in \u001b[36mfetch_metrics\u001b[39m\u001b[34m(experiments, attributes, include_time, step_range, lineage_to_the_root, tail_limit, type_suffix_in_column_names, include_point_previews, context)\u001b[39m\n\u001b[32m    151\u001b[39m \u001b[38;5;28;01massert\u001b[39;00m _experiments \u001b[38;5;129;01mis\u001b[39;00m \u001b[38;5;129;01mnot\u001b[39;00m \u001b[38;5;28;01mNone\u001b[39;00m\n\u001b[32m    152\u001b[39m _attributes = resolve_attributes_filter(attributes, forced_type=[\u001b[33m\"\u001b[39m\u001b[33mfloat_series\u001b[39m\u001b[33m\"\u001b[39m])\n\u001b[32m--> \u001b[39m\u001b[32m154\u001b[39m \u001b[38;5;28;01mreturn\u001b[39;00m \u001b[43m_fetch_metrics\u001b[49m\u001b[43m.\u001b[49m\u001b[43mfetch_metrics\u001b[49m\u001b[43m(\u001b[49m\n\u001b[32m    155\u001b[39m \u001b[43m    \u001b[49m\u001b[43mfilter_\u001b[49m\u001b[43m=\u001b[49m\u001b[43m_experiments\u001b[49m\u001b[43m,\u001b[49m\n\u001b[32m    156\u001b[39m \u001b[43m    \u001b[49m\u001b[43mattributes\u001b[49m\u001b[43m=\u001b[49m\u001b[43m_attributes\u001b[49m\u001b[43m,\u001b[49m\n\u001b[32m    157\u001b[39m \u001b[43m    \u001b[49m\u001b[43minclude_time\u001b[49m\u001b[43m=\u001b[49m\u001b[43minclude_time\u001b[49m\u001b[43m,\u001b[49m\n\u001b[32m    158\u001b[39m \u001b[43m    \u001b[49m\u001b[43mstep_range\u001b[49m\u001b[43m=\u001b[49m\u001b[43mstep_range\u001b[49m\u001b[43m,\u001b[49m\n\u001b[32m    159\u001b[39m \u001b[43m    \u001b[49m\u001b[43mlineage_to_the_root\u001b[49m\u001b[43m=\u001b[49m\u001b[43mlineage_to_the_root\u001b[49m\u001b[43m,\u001b[49m\n\u001b[32m    160\u001b[39m \u001b[43m    \u001b[49m\u001b[43mtail_limit\u001b[49m\u001b[43m=\u001b[49m\u001b[43mtail_limit\u001b[49m\u001b[43m,\u001b[49m\n\u001b[32m    161\u001b[39m \u001b[43m    \u001b[49m\u001b[43mtype_suffix_in_column_names\u001b[49m\u001b[43m=\u001b[49m\u001b[43mtype_suffix_in_column_names\u001b[49m\u001b[43m,\u001b[49m\n\u001b[32m    162\u001b[39m \u001b[43m    \u001b[49m\u001b[43minclude_point_previews\u001b[49m\u001b[43m=\u001b[49m\u001b[43minclude_point_previews\u001b[49m\u001b[43m,\u001b[49m\n\u001b[32m    163\u001b[39m \u001b[43m    \u001b[49m\u001b[43mcontext\u001b[49m\u001b[43m=\u001b[49m\u001b[43mcontext\u001b[49m\u001b[43m,\u001b[49m\n\u001b[32m    164\u001b[39m \u001b[43m    \u001b[49m\u001b[43mcontainer_type\u001b[49m\u001b[43m=\u001b[49m\u001b[43m_search\u001b[49m\u001b[43m.\u001b[49m\u001b[43mContainerType\u001b[49m\u001b[43m.\u001b[49m\u001b[43mEXPERIMENT\u001b[49m\u001b[43m,\u001b[49m\n\u001b[32m    165\u001b[39m \u001b[43m\u001b[49m\u001b[43m)\u001b[49m\n",
      "\u001b[36mFile \u001b[39m\u001b[32m~/Desktop/Git/neptune-github/scale-examples/.env/lib/python3.13/site-packages/neptune_fetcher/internal/composition/fetch_metrics.py:82\u001b[39m, in \u001b[36mfetch_metrics\u001b[39m\u001b[34m(filter_, attributes, include_time, step_range, lineage_to_the_root, tail_limit, type_suffix_in_column_names, include_point_previews, context, container_type)\u001b[39m\n\u001b[32m     79\u001b[39m _validate_tail_limit(tail_limit)\n\u001b[32m     80\u001b[39m _validate_include_time(include_time)\n\u001b[32m---> \u001b[39m\u001b[32m82\u001b[39m valid_context = \u001b[43mvalidate_context\u001b[49m\u001b[43m(\u001b[49m\u001b[43mcontext\u001b[49m\u001b[43m \u001b[49m\u001b[38;5;129;43;01mor\u001b[39;49;00m\u001b[43m \u001b[49m\u001b[43mget_context\u001b[49m\u001b[43m(\u001b[49m\u001b[43m)\u001b[49m\u001b[43m)\u001b[49m\n\u001b[32m     83\u001b[39m client = get_client(valid_context)\n\u001b[32m     84\u001b[39m project_identifier = identifiers.ProjectIdentifier(valid_context.project)  \u001b[38;5;66;03m# type: ignore\u001b[39;00m\n",
      "\u001b[36mFile \u001b[39m\u001b[32m~/Desktop/Git/neptune-github/scale-examples/.env/lib/python3.13/site-packages/neptune_fetcher/internal/context.py:119\u001b[39m, in \u001b[36mvalidate_context\u001b[39m\u001b[34m(context)\u001b[39m\n\u001b[32m    117\u001b[39m     \u001b[38;5;28;01mraise\u001b[39;00m NeptuneProjectNotProvided()\n\u001b[32m    118\u001b[39m \u001b[38;5;28;01mif\u001b[39;00m context.api_token \u001b[38;5;129;01mis\u001b[39;00m \u001b[38;5;28;01mNone\u001b[39;00m:\n\u001b[32m--> \u001b[39m\u001b[32m119\u001b[39m     \u001b[38;5;28;01mraise\u001b[39;00m NeptuneApiTokenNotProvided()\n\u001b[32m    121\u001b[39m \u001b[38;5;28;01mreturn\u001b[39;00m context\n",
      "\u001b[31mNeptuneApiTokenNotProvided\u001b[39m: \n\u001b[95mNeptuneApiTokenNotProvided: The Neptune API token was not provided.\u001b[0m\n\nMake sure to specify a valid token in one of the following ways:\n\n- Call the `set_api_token()` function\n- Create a Context with the API token and pass it to the `context` argument of the fetching method\n- Set the `NEPTUNE_API_TOKEN` environment variable\n\nFor details, see https://docs.neptune.ai/fetcher_setup\n"
     ]
    }
   ],
   "source": [
    "import neptune_fetcher.alpha as npt\n",
    "\n",
    "context = npt.Context(\n",
    "    project=\"neptune/class-conditioned-difussion\",\n",
    ")\n",
    "\n",
    "metrics_df = npt.fetch_metrics(\n",
    "    context=context,\n",
    "    experiments=\"debug-001\",\n",
    "    include_point_previews=True,\n",
    "    attributes=[\n",
    "        \"evals/is_digit/scores/avg\",\n",
    "        \"evals/correct_digit/scores/avg\",\n",
    "        \"evals/hand_writing/scores/avg\",\n",
    "    ],\n",
    ")\n",
    "\n",
    "metrics_df.head()"
   ]
  },
  {
   "cell_type": "code",
   "execution_count": null,
   "metadata": {},
   "outputs": [],
   "source": []
  }
 ],
 "metadata": {
  "kernelspec": {
   "display_name": ".env",
   "language": "python",
   "name": "python3"
  },
  "language_info": {
   "codemirror_mode": {
    "name": "ipython",
    "version": 3
   },
   "file_extension": ".py",
   "mimetype": "text/x-python",
   "name": "python",
   "nbconvert_exporter": "python",
   "pygments_lexer": "ipython3",
   "version": "3.13.3"
  }
 },
 "nbformat": 4,
 "nbformat_minor": 2
}
