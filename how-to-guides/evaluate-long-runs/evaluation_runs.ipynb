{
 "cells": [
  {
   "cell_type": "code",
   "execution_count": 28,
   "metadata": {},
   "outputs": [
    {
     "name": "stderr",
     "output_type": "stream",
     "text": [
      "2025-05-01 16:08:46,086 neptune:INFO: Waiting for all operations to be processed\n",
      "2025-05-01 16:08:46,086 neptune:WARNING: No timeout specified. Waiting indefinitely\n"
     ]
    },
    {
     "name": "stdout",
     "output_type": "stream",
     "text": [
      "https://scale.neptune.ai/leo/pytorch-tutorial/-/run/?customId=adapting-target-20250501140846024-54hfo\n"
     ]
    },
    {
     "name": "stderr",
     "output_type": "stream",
     "text": [
      "2025-05-01 16:08:50,509 neptune:INFO: Waiting for remaining 53 operation(s) to be processed\n",
      "2025-05-01 16:08:52,670 neptune:INFO: All operations were processed\n",
      "2025-05-01 16:08:52,670 neptune:INFO: Waiting for all files to be uploaded\n",
      "2025-05-01 16:08:52,670 neptune:WARNING: No timeout specified. Waiting indefinitely\n",
      "2025-05-01 16:08:52,670 neptune:INFO: All files were uploaded\n"
     ]
    }
   ],
   "source": [
    "from neptune_scale import Run\n",
    "import numpy as np\n",
    "\n",
    "run = Run(\n",
    "    # run_id=\"seagull-s68kj7\",\n",
    ")\n",
    "\n",
    "run.add_tags([\"eval\", \"even-steps\"])\n",
    "\n",
    "for step in range(0, 100, 2): # Even values only\n",
    "    # some training loop\n",
    "    run.log_metrics(\n",
    "        data={\"train/loss\": min(0.8, np.random.random())},\n",
    "        step=step,\n",
    "        preview=True,\n",
    "        preview_completion=1.0,\n",
    "    )\n",
    "\n",
    "print(run.get_run_url())\n",
    "\n",
    "run.close()"
   ]
  },
  {
   "cell_type": "code",
   "execution_count": 29,
   "metadata": {},
   "outputs": [
    {
     "name": "stderr",
     "output_type": "stream",
     "text": [
      "2025-05-01 16:08:56,782 neptune:INFO: Waiting for all operations to be processed\n",
      "2025-05-01 16:08:56,783 neptune:WARNING: No timeout specified. Waiting indefinitely\n"
     ]
    },
    {
     "name": "stdout",
     "output_type": "stream",
     "text": [
      "https://scale.neptune.ai/leo/pytorch-tutorial/-/run/?customId=adapting-target-20250501140846024-54hfo\n"
     ]
    },
    {
     "name": "stderr",
     "output_type": "stream",
     "text": [
      "2025-05-01 16:09:03,281 neptune:INFO: All operations were processed\n",
      "2025-05-01 16:09:03,281 neptune:INFO: Waiting for all files to be uploaded\n",
      "2025-05-01 16:09:03,281 neptune:WARNING: No timeout specified. Waiting indefinitely\n",
      "2025-05-01 16:09:03,281 neptune:INFO: All files were uploaded\n"
     ]
    }
   ],
   "source": [
    "run = Run(\n",
    "    run_id=run._run_id,\n",
    "    resume=True,\n",
    ")\n",
    "\n",
    "run.add_tags([\"eval\", \"odd-steps\"])\n",
    "\n",
    "for step in range(1, 101, 2): # Odd values only\n",
    "    # some training loop\n",
    "    run.log_metrics(\n",
    "        data={\"train/loss\": min(0.8, np.random.random())},\n",
    "        step=step,\n",
    "        preview=True,\n",
    "        preview_completion=1.0,\n",
    "    )\n",
    "\n",
    "print(run.get_run_url())\n",
    "\n",
    "run.close()"
   ]
  }
 ],
 "metadata": {
  "kernelspec": {
   "display_name": "neptune_scale_py_312_base",
   "language": "python",
   "name": "python3"
  },
  "language_info": {
   "codemirror_mode": {
    "name": "ipython",
    "version": 3
   },
   "file_extension": ".py",
   "mimetype": "text/x-python",
   "name": "python",
   "nbconvert_exporter": "python",
   "pygments_lexer": "ipython3",
   "version": "3.12.3"
  }
 },
 "nbformat": 4,
 "nbformat_minor": 2
}
