{
 "cells": [
  {
   "cell_type": "markdown",
   "metadata": {},
   "source": [
    "# Neptune Quickstart\n",
    "\n",
    "<a target=\"_blank\" href=\"https://colab.research.google.com/drive/1JDVMQ7ECSH8zhwMAhroC03CK4r2q1KTr?usp=sharing\">\n",
    "  <img src=\"https://colab.research.google.com/assets/colab-badge.svg\" alt=\"Open in Colab\"/>\n"
   ]
  },
  {
   "cell_type": "markdown",
   "metadata": {},
   "source": [
    "This guide shows how to:\n",
    "- Create a Neptune run\n",
    "- Log training metrics to the run"
   ]
  },
  {
   "cell_type": "markdown",
   "metadata": {},
   "source": [
    "## Install Neptune and dependencies"
   ]
  },
  {
   "cell_type": "code",
   "execution_count": null,
   "metadata": {},
   "outputs": [],
   "source": [
    "! pip install -q -U neptune_scale"
   ]
  },
  {
   "cell_type": "markdown",
   "metadata": {},
   "source": [
    "Import the required packages."
   ]
  },
  {
   "cell_type": "code",
   "execution_count": 116,
   "metadata": {},
   "outputs": [],
   "source": [
    "from random import random, randint\n",
    "import numpy as np\n",
    "from neptune_scale import Run\n",
    "import time"
   ]
  },
  {
   "cell_type": "markdown",
   "metadata": {},
   "source": [
    "## Get and set your API token\n",
    "\n",
    "If you haven't already, [create a project](https://docs-beta.neptune.ai/setup#1-create-a-project).",
    "\n",
    "To find your API token and full project name:\n",
    "1. Log into Neptune Scale.\n",
    "2. In the bottom-left corner, expand your user menu and select **Get your API token**.\n",
    "3. Copy the API token and paste it below to set as an environment variable.\n",
    "4. To find the full project name, open the project settings. Copy and paste the project path below."
   ]
  },
  {
   "cell_type": "code",
   "execution_count": 1,
   "metadata": {},
   "outputs": [
    {
     "name": "stdout",
     "output_type": "stream",
     "text": [
      "env: NEPTUNE_API_TOKEN=\"your_api_token_here\"\n",
      "env: NEPTUNE_PROJECT=\"your_workspace_name_here/your_project_name_here\"\n"
     ]
    }
   ],
   "source": [
    "# Set Neptune credentials as environment variables\n",
    "%env NEPTUNE_API_TOKEN = \"your_api_token_here\"\n",
    "%env NEPTUNE_PROJECT = \"your_workspace_name_here/your_project_name_here\""
   ]
  },
  {
   "cell_type": "markdown",
   "metadata": {},
   "source": [
    "## Initialize the Neptune run\n",
    "\n",
    "To initialize the `Run` object, you must provide a unique `run_id` to identify your experiment. You can also pass your API token and project name as arguments to the `Run` constructor, but these have already been set as environment variables."
   ]
  },
  {
   "cell_type": "code",
   "execution_count": 134,
   "metadata": {},
   "outputs": [],
   "source": [
    "custom_id = random()  # Sets a random value for the custom run_id\n",
    "\n",
    "run = Run(\n",
    "    run_id=f\"seagull-{custom_id}\",  # Specify a unique run_id\n",
    ")\n",
    "\n",
    "# Add any tags to identify your runs\n",
    "run.add_tags([\"Quickstart\", \"Long\"])\n",
    "run.add_tags([\"Notebook\"], group_tags=True)\n",
    "\n",
    "run.log_configs(\n",
    "    {\n",
    "        \"parameters/use_preprocessing\": True,\n",
    "        \"parameters/learning_rate\": 0.002,\n",
    "        \"parameters/batch_size\": 64,\n",
    "        \"parameters/optimizer\": \"Adam\",\n",
    "        \"parameters/offset\": random()\n",
    "    }\n",
    ")"
   ]
  },
  {
   "cell_type": "markdown",
   "metadata": {},
   "source": [
    "## Execute training loop that logs to Neptune\n",
    "\n",
    "This training loop tracks 66 different training metrics each for 20 000 steps. You can increase the number of metrics in the logging dictionary as well as the number of steps.\n",
    "\n",
    "```python\n",
    "metrics_to_log = {\n",
    "    \"metric_1\": metric_1,\n",
    "    ... ,\n",
    "    \"metric_x\": metric_x\n",
    "}\n",
    "\n",
    "```\n",
    "\n",
    "To find the run in the Neptune web app, navigate to the [**All runs**](https://scale.neptune.ai/leo/Quickstart/runs/table) tab. Next to the search bar, enable the **Show all runs** toggle."
   ]
  },
  {
   "cell_type": "code",
   "execution_count": null,
   "metadata": {},
   "outputs": [],
   "source": [
    "steps = 20000  # Specify number of steps\n",
    "start_time = time.time()  # Time length of execution\n",
    "logging_time = 0\n",
    "\n",
    "# Simulate the training loop\n",
    "random_int = randint(0, 1000)\n",
    "print(random_int)\n",
    "\n",
    "for step in range(1, steps + 1):\n",
    "\n",
    "    relative_progress = step/steps\n",
    "    noise = np.random.uniform(-0.3, 0.3) * (1 - relative_progress)\n",
    "    random_factor = np.random.uniform(0.5, 1.5)\n",
    "    # Specify data to log per step as a dictionary\n",
    "    metrics_to_log = {\n",
    "        \"train/metrics/accuracy\":       1 - 1 / np.log(relative_progress * random_int + 1.1) - (random() / step) + noise,\n",
    "        \"train/metrics/loss\":           1 / np.log(relative_progress * random_int + 1.1) - (random() / step) + noise,\n",
    "        \"validation/metrics/accuracy\":  1 - 1 / np.log(relative_progress / 20 * random_int + 1.1) - (random() / step) + noise,\n",
    "        \"validation/metrics/loss\":      1 / np.log(relative_progress / 20 * random_int + 1.1) - (random() / step) + noise,\n",
    "        \"test/metrics/accuracy\":        1 - 1 / np.log(relative_progress / 30 * random_int + 1.1) - (random() / step) + noise,\n",
    "        \"test/metrics/loss\":            1 / np.log(relative_progress / 30 * random_int + 1.1) - (random() / step) + noise,\n",
    "    }\n",
    "\n",
    "    # Loop metrics to create unique values for each layer and GPU\n",
    "    for i in range(1, 31):  # for each layer and each GPU\n",
    "        metrics_to_log[f\"debug/weights/layer_{i}\"] = np.random.uniform(-0.1, 0.1)\n",
    "        metrics_to_log[f\"hardware/gpu_{i}\"] = random()\n",
    "\n",
    "    logging_time_start = time.time()\n",
    "    # Log metrics usig the log_metrics() method\n",
    "    run.log_metrics(\n",
    "        data = metrics_to_log,\n",
    "        step = step,\n",
    "    )\n",
    "    logging_time_end = time.time()\n",
    "    logging_time += logging_time_end - logging_time_start\n",
    "# Close run and ensure all operations are processed\n",
    "run.close()\n",
    "\n",
    "# Calcualte some post run metrics for review\n",
    "num_ops = steps * len(metrics_to_log)\n",
    "end_time = time.time()\n",
    "execution_time = end_time - start_time\n",
    "\n",
    "print(f\"Unique metrics per run: {len(metrics_to_log)}\")\n",
    "print(f\"Number of steps per run: {steps}\")\n",
    "print(f\"Total data points logged per run: {num_ops}\")\n",
    "print(f\"Total execution time: {execution_time:.2f} seconds to process {num_ops} operations ({num_ops/execution_time:.0f} datapoints/second).\")\n",
    "print(f\"Logging time {logging_time}, ({num_ops/logging_time:.0f} datapoints/second).\")"
   ]
  }
 ],
 "metadata": {
  "kernelspec": {
   "display_name": "neptune_scale_py_312_base",
   "language": "python",
   "name": "python3"
  },
  "language_info": {
   "codemirror_mode": {
    "name": "ipython",
    "version": 3
   },
   "file_extension": ".py",
   "mimetype": "text/x-python",
   "name": "python",
   "nbconvert_exporter": "python",
   "pygments_lexer": "ipython3",
   "version": "3.12.3"
  }
 },
 "nbformat": 4,
 "nbformat_minor": 2
}
