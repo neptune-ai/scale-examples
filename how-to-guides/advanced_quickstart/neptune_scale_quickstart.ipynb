{
 "cells": [
  {
   "cell_type": "markdown",
   "metadata": {},
   "source": [
    "# Neptune Quickstart\n",
    "\n",
    "<a target=\"_blank\" href=\"https://colab.research.google.com/drive/1JDVMQ7ECSH8zhwMAhroC03CK4r2q1KTr?usp=sharing\">\n",
    "  <img src=\"https://colab.research.google.com/assets/colab-badge.svg\" alt=\"Open in Colab\"/>\n"
   ]
  },
  {
   "cell_type": "markdown",
   "metadata": {},
   "source": [
    "This guide will show you how to:\n",
    "- Create a Neptune Run object\n",
    "- Log training metrics to Neptune"
   ]
  },
  {
   "cell_type": "markdown",
   "metadata": {},
   "source": [
    "## Install Neptune and Dependencies"
   ]
  },
  {
   "cell_type": "code",
   "execution_count": null,
   "metadata": {},
   "outputs": [],
   "source": [
    "! pip install -q -U neptune_scale"
   ]
  },
  {
   "cell_type": "markdown",
   "metadata": {},
   "source": [
    "Import required packages"
   ]
  },
  {
   "cell_type": "code",
   "execution_count": 116,
   "metadata": {},
   "outputs": [],
   "source": [
    "from random import random, randint\n",
    "import numpy as np\n",
    "from neptune_scale import Run\n",
    "import time"
   ]
  },
  {
   "cell_type": "markdown",
   "metadata": {},
   "source": [
    "## Get and Set your API token\n",
    "\n",
    "To find your API token and full project name:\n",
    "1. Log into Neptune Scale\n",
    "2. In the bottom-left corner, expand your user menu and select **Get your API token**\n",
    "3. Copy the API token and paste it below to set as an environment variable\n",
    "4. Paste your project name to set as an environment variable"
   ]
  },
  {
   "cell_type": "markdown",
   "metadata": {},
   "source": [
    "Paste your API token, workspace and project name below and execute the cell block."
   ]
  },
  {
   "cell_type": "code",
   "execution_count": 1,
   "metadata": {},
   "outputs": [
    {
     "name": "stdout",
     "output_type": "stream",
     "text": [
      "env: NEPTUNE_API_TOKEN=\"your_api_token_here\"\n",
      "env: NEPTUNE_PROJECT=\"your_workspace_name_here/Quickstart\"\n"
     ]
    }
   ],
   "source": [
    "# Set environment variable for the API token\n",
    "%env NEPTUNE_API_TOKEN = \"your_api_token_here\"\n",
    "%env NEPTUNE_PROJECT = \"your_workspace_name_here/Quickstart\""
   ]
  },
  {
   "cell_type": "markdown",
   "metadata": {},
   "source": [
    "## Initialize the Neptune Run object\n",
    "\n",
    "To initialize the `Run` object, you need to provide a unique `run_id` to identify your experiment. The `Run` method can also be used to set your `api_token` and `workspace/project_name`, but these have already been set as environment variables. \n",
    "\n",
    "```python\n",
    "run = Run(\n",
    "    run_id=f\"seagull-{custom_id}\", # You must specify a unique custom run_id\n",
    ")\n",
    "```\n",
    "\n",
    "In the code block below, insert your personal API token as well as your workspace and project name.\n",
    "_Note - we recommend [setting environment variables](https://docs-beta.neptune.ai/setup#save-credentials-as-env-variables) for your API token and project name._"
   ]
  },
  {
   "cell_type": "code",
   "execution_count": 134,
   "metadata": {},
   "outputs": [],
   "source": [
    "custom_id = random() # sets a random value for the custom run_id\n",
    "\n",
    "run = Run(\n",
    "    run_id=f\"seagull-{custom_id}\", # You must specify a unique custom run_id\n",
    ")\n",
    "\n",
    "# Add any tags to identify your runs\n",
    "run.add_tags([\"Quickstart\", \"Long\"])\n",
    "run.add_tags([\"Notebook\"], group_tags=True)\n",
    "\n",
    "run.log_configs(\n",
    "    {\n",
    "        \"parameters/use_preprocessing\": True,\n",
    "        \"parameters/learning_rate\": 0.002,\n",
    "        \"parameters/batch_size\": 64,\n",
    "        \"parameters/optimizer\": \"Adam\",\n",
    "        \"parameters/offset\": random()\n",
    "    }\n",
    ")"
   ]
  },
  {
   "cell_type": "markdown",
   "metadata": {},
   "source": [
    "## Execute Training Loop that Logs to Neptune\n",
    "\n",
    "This training loop tracks **66** different training metrics each for **20000** steps. In this example you can increase the number of metrics, in the logging dictionary as well as the number of steps. \n",
    "\n",
    "```python\n",
    "metrics_to_log = {\n",
    "    \"metric_1\": metric_1,\n",
    "    ... ,\n",
    "    \"metric_x\": metric_x\n",
    "}\n",
    "\n",
    "```\n",
    "\n",
    "Once the training is complete, you can navigate to the [`Runs Table`](https://scale.neptune.ai/leo/Quickstart/runs/table) in the Neptune Scale Web App. Click on the _Show all runs_ button to show the runs that you have just logged, as seen below."
   ]
  },
  {
   "cell_type": "code",
   "execution_count": null,
   "metadata": {},
   "outputs": [],
   "source": [
    "steps = 20000 # Specify number of steps\n",
    "start_time = time.time() # Time length of execution\n",
    "logging_time = 0\n",
    "\n",
    "# Simulate the training loop\n",
    "random_int = randint(0, 1000)\n",
    "print(random_int)\n",
    "\n",
    "for step in range(1, steps + 1):\n",
    "\n",
    "    relative_progress = step/steps\n",
    "    noise = np.random.uniform(-0.3, 0.3) * (1 - relative_progress)\n",
    "    random_factor = np.random.uniform(0.5, 1.5)\n",
    "    # Specify data to log per step as a dictionary\n",
    "    metrics_to_log = {\n",
    "        \"train/metrics/accuracy\":       1 - 1 / np.log(relative_progress * random_int + 1.1) - (random() / step) + noise,\n",
    "        \"train/metrics/loss\":           1 / np.log(relative_progress * random_int + 1.1) - (random() / step) + noise,\n",
    "        \"validation/metrics/accuracy\":  1 - 1 / np.log(relative_progress / 20 * random_int + 1.1) - (random() / step) + noise,\n",
    "        \"validation/metrics/loss\":      1 / np.log(relative_progress / 20 * random_int + 1.1) - (random() / step) + noise,\n",
    "        \"test/metrics/accuracy\":        1 - 1 / np.log(relative_progress / 30 * random_int + 1.1) - (random() / step) + noise,\n",
    "        \"test/metrics/loss\":            1 / np.log(relative_progress / 30 * random_int + 1.1) - (random() / step) + noise,\n",
    "    }\n",
    "\n",
    "    # Loop metrics to create unique values for each layer and GPU\n",
    "    for i in range(1, 31): # for each layer and each GPU\n",
    "        metrics_to_log[f\"debug/weights/layer_{i}\"] = np.random.uniform(-0.1, 0.1)\n",
    "        metrics_to_log[f\"hardware/gpu_{i}\"] = random()\n",
    "\n",
    "    logging_time_start = time.time()\n",
    "    # Log metrics usig the log_metrics() method\n",
    "    run.log_metrics(\n",
    "        data = metrics_to_log,\n",
    "        step = step,\n",
    "    )\n",
    "    logging_time_end = time.time()\n",
    "    logging_time += logging_time_end - logging_time_start\n",
    "# Close run and ensure all operations are processed\n",
    "run.close()\n",
    "\n",
    "# Calcualte some post run metrics for review\n",
    "num_ops = steps * len(metrics_to_log)\n",
    "end_time = time.time()\n",
    "execution_time = end_time - start_time\n",
    "\n",
    "print(f\"Unique metrics per run: {len(metrics_to_log)}\")\n",
    "print(f\"Number of steps per run: {steps}\")\n",
    "print(f\"Total data points logged per run: {num_ops}\")\n",
    "print(f\"Total execution time: {execution_time:.2f} seconds to process {num_ops} operations ({num_ops/execution_time:.0f} datapoints/second).\")\n",
    "print(f\"Logging time {logging_time}, ({num_ops/logging_time:.0f} datapoints/second).\")"
   ]
  }
 ],
 "metadata": {
  "kernelspec": {
   "display_name": "neptune_scale_py_312_base",
   "language": "python",
   "name": "python3"
  },
  "language_info": {
   "codemirror_mode": {
    "name": "ipython",
    "version": 3
   },
   "file_extension": ".py",
   "mimetype": "text/x-python",
   "name": "python",
   "nbconvert_exporter": "python",
   "pygments_lexer": "ipython3",
   "version": "3.12.3"
  }
 },
 "nbformat": 4,
 "nbformat_minor": 2
}
