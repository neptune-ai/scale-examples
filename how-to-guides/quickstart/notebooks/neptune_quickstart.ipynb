{
 "cells": [
  {
   "cell_type": "markdown",
   "metadata": {},
   "source": [
    "# Neptune Quickstart\n",
    "\n",
    "<a target=\"_blank\" href=\"https://colab.research.google.com/github/neptune-ai/scale-examples/blob/main/how-to-guides/quickstart/notebooks/neptune_scale_quickstart.ipynb\"> \n",
    "  <img src=\"https://colab.research.google.com/assets/colab-badge.svg\" alt=\"Open in Colab\"/> \n",
    "</a>\n",
    "<a target=\"_blank\" href=\"https://github.com/neptune-ai/scale-examples/blob/main/how-to-guides/quickstart/notebooks/neptune_scale_quickstart.ipynb\">\n",
    "  <img alt=\"Open in GitHub\" src=\"https://img.shields.io/badge/Open_in_GitHub-blue?logo=github&labelColor=black\">\n",
    "</a>\n",
    "<a target=\"_blank\" href=\"https://scale.neptune.ai/o/examples/org/quickstart/reports/9ea26258-2aed-4441-9b58-bab619215f6f\">\n",
    "  <img alt=\"Explore in Neptune\" src=\"https://neptune.ai/wp-content/uploads/2024/01/neptune-badge.svg\">\n",
    "</a>\n",
    "<a target=\"_blank\" href=\"https://docs.neptune.ai/quickstart\">\n",
    "  <img alt=\"View tutorial in docs\" src=\"https://neptune.ai/wp-content/uploads/2024/01/docs-badge-2.svg\">\n",
    "</a>\n"
   ]
  },
  {
   "cell_type": "markdown",
   "metadata": {},
   "source": [
    "This guide shows how to:\n",
    "- Install and configure Neptune\n",
    "- Create a Neptune run\n",
    "- Log configuration values and metrics to the run\n"
   ]
  },
  {
   "cell_type": "markdown",
   "metadata": {},
   "source": [
    "## Install Neptune and dependencies"
   ]
  },
  {
   "cell_type": "code",
   "execution_count": null,
   "metadata": {},
   "outputs": [],
   "source": [
    "! pip install -q -U neptune_scale tqdm numpy"
   ]
  },
  {
   "cell_type": "markdown",
   "metadata": {},
   "source": [
    "## Training boilerplate\n",
    "\n",
    "Create dummy training, validation, and test step functions that return evaluation metrics"
   ]
  },
  {
   "cell_type": "code",
   "execution_count": null,
   "metadata": {},
   "outputs": [],
   "source": [
    "NUM_STEPS = 20_000  # Determines how long the training will run for"
   ]
  },
  {
   "cell_type": "code",
   "execution_count": null,
   "metadata": {},
   "outputs": [],
   "source": [
    "import numpy as np\n",
    "from random import randint\n",
    "\n",
    "\n",
    "def get_gradient_norm(layer: int, step: int) -> float:\n",
    "    time_decay = 1.0 / (1.0 + step / 1000)\n",
    "    layer_factor = np.exp(-0.5 * ((layer - 5) ** 2) / 4)\n",
    "    noise = np.random.uniform(-0.1, 0.1) * (1 - step / NUM_STEPS)\n",
    "\n",
    "    return (0.5 + layer_factor) * time_decay + noise\n",
    "\n",
    "\n",
    "def get_gpu_utilization(step: int) -> float:\n",
    "    base_util = 0.85\n",
    "    data_loading_drop = 0.2 if step % 10 == 0 else 0.0\n",
    "    update_spike = 0.1 if step % 5 == 0 else 0.0\n",
    "    noise = np.random.uniform(-0.05, 0.05)\n",
    "\n",
    "    return base_util - data_loading_drop + update_spike + noise\n",
    "\n",
    "\n",
    "def _generate_metric(\n",
    "    step: int,\n",
    "    factor: float = 1.0,\n",
    ") -> float:\n",
    "    relative_progress = step / NUM_STEPS\n",
    "    noise = np.random.uniform(-0.3, 0.3) * (1 - relative_progress)\n",
    "    random_int = randint(0, 1000)\n",
    "\n",
    "    return 1 / np.log(relative_progress / factor * random_int + 1.1) + noise\n",
    "\n",
    "\n",
    "def training_step(step: int) -> tuple[float, float]:\n",
    "    accuracy = 0.45 + 1 / (1 + np.exp(_generate_metric(step)))\n",
    "    loss = _generate_metric(step)\n",
    "    return accuracy, loss\n",
    "\n",
    "\n",
    "def validation_step(step: int) -> tuple[float, float]:\n",
    "    accuracy = 0.45 + 1 / (1 + np.exp(_generate_metric(step, 20)))\n",
    "    loss = _generate_metric(step, 20)\n",
    "    return accuracy, loss\n",
    "\n",
    "\n",
    "def test_step(step: int) -> tuple[float, float]:\n",
    "    accuracy = 0.45 + 1 / (1 + np.exp(_generate_metric(step, 30)))\n",
    "    loss = _generate_metric(step, 30)\n",
    "    return accuracy, loss"
   ]
  },
  {
   "cell_type": "markdown",
   "metadata": {},
   "source": [
    "## Get and set your API token\n",
    "\n",
    "If you haven't already, [create a project](https://docs.neptune.ai/projects).\n",
    "\n",
    "To find your API token and full project name:\n",
    "1. Log into Neptune.\n",
    "2. In the bottom-left corner, expand your user menu and select **Get your API token**.\n",
    "3. Copy the API token and paste it below to set as an environment variable. Uncomment the code before running.\n",
    "4. To find the full project name, open the project settings. Copy and paste the project path below.\n"
   ]
  },
  {
   "cell_type": "code",
   "execution_count": null,
   "metadata": {},
   "outputs": [],
   "source": [
    "# Set Neptune credentials as environment variables\n",
    "# %env NEPTUNE_API_TOKEN = \"YOUR_API_TOKEN\"\n",
    "# %env NEPTUNE_PROJECT = \"YOUR_WORKSPACE_NAME/YOUR_PROJECT_NAME\""
   ]
  },
  {
   "cell_type": "markdown",
   "metadata": {},
   "source": [
    "## Initialize the Neptune run\n",
    "\n",
    "A [run](https://docs.neptune.ai/runs) is the basic unit of tracking in Neptune.\n",
    "\n",
    "Initialize the `Run` object to start logging to Neptune. You can also pass your API token and project name as arguments to the `Run` constructor, but we recommend setting these as environment variables for security reasons.\n",
    "\n",
    "You can also pass an optional `experiment_name` to organize runs into [experiments](https://docs.neptune.ai/experiments).\n",
    "\n",
    "```python\n",
    "run = Run(\n",
    "    project = \"YOUR_WORKSPACE_NAME/YOUR_PROJECT_NAME\",  # Required if not set as environment variable\n",
    "    api_token = \"YOUR_API_TOKEN\",  # Required if not set as environment variable\n",
    "    experiment_name = \"EXPERIMENT_NAME\",  # Optional\n",
    "    run_id = \"UNIQUE_RUN_IDENTIFIER\"  # Optional: Will be generated automatically if not specified\n",
    ")\n",
    "```\n",
    "\n",
    "In addition to the above parameters, the `Run` constructor also accepts many other optional parameters that let you control the run's behavior in detail. You can explore them in the [API reference](https://docs.neptune.ai/run#parameters)."
   ]
  },
  {
   "cell_type": "code",
   "execution_count": null,
   "metadata": {},
   "outputs": [],
   "source": [
    "from neptune_scale import Run\n",
    "\n",
    "run = Run(experiment_name=\"quickstart-experiment\")\n",
    "\n",
    "print(f\"Neptune run created 🎉\\nAccess at {run.get_run_url()}\")"
   ]
  },
  {
   "cell_type": "markdown",
   "metadata": {},
   "source": [
    "The link to the run will take you to the run's page in the Neptune web app. It will mostly be empty for now, but will start filling up as we log data in the next steps."
   ]
  },
  {
   "cell_type": "markdown",
   "metadata": {},
   "source": [
    "## Add tags to identify and organize your runs\n",
    "\n",
    "To add tags to your run, use the `add_tags()` method. You can pass a list, set, or tuple of strings as tags.\n",
    "To add group tags, set the `group_tags` parameter to `True`."
   ]
  },
  {
   "cell_type": "code",
   "execution_count": null,
   "metadata": {},
   "outputs": [],
   "source": [
    "run.add_tags([\"quickstart\", \"notebook\"])\n",
    "run.add_tags([\"long\"], group_tags=True)"
   ]
  },
  {
   "cell_type": "markdown",
   "metadata": {},
   "source": [
    "## Log configuration parameters\n",
    "\n",
    "To log any scalar values, use the `log_configs()` method.\n"
   ]
  },
  {
   "cell_type": "code",
   "execution_count": null,
   "metadata": {},
   "outputs": [],
   "source": [
    "run.log_configs(\n",
    "    {\n",
    "        \"parameters/data/use_preprocessing\": True,\n",
    "        \"parameters/data/batch_size\": 128,\n",
    "        \"parameters/model/activation\": \"relu\",\n",
    "        \"parameters/model/dropout\": 0.1,\n",
    "        \"parameters/optimizer/type\": \"Adam\",\n",
    "        \"parameters/optimizer/learning_rate\": 0.001,\n",
    "    }\n",
    ")"
   ]
  },
  {
   "cell_type": "markdown",
   "metadata": {},
   "source": [
    "The above cell creates a _parameters_ folder in the run's _All Metadata_ tab. Within the _parameters_ folder, there are separate folders for _data_, _model_, and _optimizer_, and the configuration parameters are added to the respective folders.\n",
    "\n",
    "This way, you can organize your configurations in a way that is easy to understand and navigate.\n"
   ]
  },
  {
   "cell_type": "markdown",
   "metadata": {},
   "source": [
    "## Execute training loop that logs to Neptune\n",
    "\n",
    "To log metric series to Neptune, use the `log_metrics()` method."
   ]
  },
  {
   "cell_type": "code",
   "execution_count": null,
   "metadata": {},
   "outputs": [],
   "source": [
    "from tqdm.auto import trange\n",
    "\n",
    "for step in trange(NUM_STEPS):\n",
    "    train_accuracy, train_loss = training_step(step)\n",
    "    valid_accuracy, valid_loss = validation_step(step)\n",
    "    test_accuracy, test_loss = test_step(step)\n",
    "\n",
    "    # Collect metrics to log in a dictionary. The keys determine the attribute name and folder structure on Neptune\n",
    "    metrics_to_log = {\n",
    "        \"metrics/train/accuracy\": train_accuracy,\n",
    "        \"metrics/train/loss\": train_loss,\n",
    "        \"metrics/valid/accuracy\": valid_accuracy,\n",
    "        \"metrics/valid/loss\": valid_loss,\n",
    "        \"metrics/test/accuracy\": test_accuracy,\n",
    "        \"metrics/test/loss\": test_loss,\n",
    "    }\n",
    "\n",
    "    # You can also log granular details, like per-layer gradient_norms, or per-GPU utilization at each training step\n",
    "    for layer in range(10):\n",
    "        metrics_to_log[f\"debug/gradient_norm/layer_{layer}\"] = get_gradient_norm(layer, step)\n",
    "        metrics_to_log[f\"system/gpu_{layer}/utilization\"] = get_gpu_utilization(step)\n",
    "\n",
    "    # Pass the `metrics_to_log` dictionary to the `log_metrics()` method to log all metrics at once\n",
    "    run.log_metrics(\n",
    "        data=metrics_to_log,\n",
    "        step=step,\n",
    "    )\n",
    "\n",
    "print(f\"Training complete ✅\\nView charts at {run.get_run_url()}&detailsTab=charts\")"
   ]
  },
  {
   "cell_type": "markdown",
   "metadata": {},
   "source": [
    "The above code cell logs evaluation metrics under a `metrics` folder, further subdivided into `train`, `valid`, and `test` for those steps respectively. It also logs per-layer gradient norms and per-GPU utilization at each training step.\n",
    "\n",
    "All of these metrics are logged as series, which means that they are logged as time series data. This allows you to see the evolution of the metrics over time. \n",
    "\n",
    "These metrics are also visualized as [Charts](https://docs.neptune.ai/charts/) in the Neptune web app. All charts update live and are visible in the **Charts** tab.\n"
   ]
  },
  {
   "cell_type": "markdown",
   "metadata": {},
   "source": [
    "## Log single and series of files to Neptune\n",
    "\n",
    "You can upload files individually or as a series with steps. For details, see [Upload files](https://docs.neptune.ai/upload_files) in the Neptune docs."
   ]
  },
  {
   "cell_type": "markdown",
   "metadata": {},
   "source": [
    "### Log single files"
   ]
  },
  {
   "cell_type": "code",
   "execution_count": null,
   "metadata": {},
   "outputs": [],
   "source": [
    "# Download a sample files\n",
    "! curl -o sample.png https://neptune.ai/wp-content/uploads/2024/05/blog_feature_image_046799_8_3_7_3-4.jpg\n",
    "! curl -o sac-rl.mp4 https://neptune.ai/wp-content/uploads/2025/05/sac-rl.mp4\n",
    "! curl -o t-rex.mp3  https://neptune.ai/wp-content/uploads/2025/05/t-rex.mp3"
   ]
  },
  {
   "cell_type": "markdown",
   "metadata": {},
   "source": [
    "Use the `assign_files()` method to upload single files. You can:\n",
    "- Log single or multiple files in one call\n",
    "- Organize files in folders"
   ]
  },
  {
   "cell_type": "code",
   "execution_count": null,
   "metadata": {},
   "outputs": [],
   "source": [
    "# Log single files\n",
    "run.assign_files(\n",
    "    {\n",
    "        \"files/single/image\": \"sample.png\",\n",
    "        \"files/single/video\": \"sac-rl.mp4\",\n",
    "        \"files/single/audio\": \"t-rex.mp3\",\n",
    "    }\n",
    ")"
   ]
  },
  {
   "cell_type": "markdown",
   "metadata": {},
   "source": [
    "### Log sequence of files\n",
    "\n",
    "To log a sequence of files to a single attribute, use the `log_files()` method. For details, see [Upload a file series](https://docs.neptune.ai/upload_files#file-series) in the Neptune docs."
   ]
  },
  {
   "cell_type": "code",
   "execution_count": null,
   "metadata": {},
   "outputs": [],
   "source": [
    "# Download sample MNIST dataset\n",
    "import requests\n",
    "\n",
    "for image_num in range(1, 10):\n",
    "    try:\n",
    "        response = requests.get(\n",
    "            f\"https://neptune.ai/wp-content/uploads/2025/05/mnist_sample_{image_num}.png\"\n",
    "        )\n",
    "        response.raise_for_status()\n",
    "        with open(f\"mnist_sample_{image_num}.png\", \"wb\") as f:\n",
    "            f.write(response.content)\n",
    "        print(f\"Downloaded mnist_sample_{image_num}.png\")\n",
    "    except Exception as e:\n",
    "        print(f\"Failed to download mnist_sample_{image_num}.png: {e}\")"
   ]
  },
  {
   "cell_type": "code",
   "execution_count": null,
   "metadata": {},
   "outputs": [],
   "source": [
    "# Upload a series of files to Neptune\n",
    "for step in range(1, 10):\n",
    "\n",
    "    run.log_files(\n",
    "        files={f\"files/series/mnist_sample\": f\"mnist_sample_{step}.png\"},\n",
    "        step=step,\n",
    "    )"
   ]
  },
  {
   "cell_type": "markdown",
   "metadata": {},
   "source": [
    "## Log custom string series\n",
    "\n",
    "Neptune automatically captures standard console logs: `stdout` and `stderr`. For details, see [Console logs](https://docs.neptune.ai/console_logs) in the Neptune docs.\n",
    "\n",
    "You can also log custom string messages using `log_string_series()`. Each message is \n",
    "associated with a step value, making it useful for tracking progress during training.\n",
    " \n",
    "For example, you can log:\n",
    "- Error messages\n",
    "- Progress updates \n",
    "- Custom debugging information\n",
    "\n",
    "For an example, see the **status** widget in [the quickstart dashboard](https://scale.neptune.ai/o/examples/org/quickstart/runs/details?viewId=9ea24429-7823-477e-a740-aa667c66a314&detailsTab=dashboard&dashboardId=9ea2595e-90a2-412e-964a-1840955af6f6&runIdentificationKey=QUICK-10&type=run).\n",
    "\n",
    "For instructions, see [Log text](https://docs.neptune.ai/log_text) in the Neptune docs."
   ]
  },
  {
   "cell_type": "code",
   "execution_count": null,
   "metadata": {},
   "outputs": [],
   "source": [
    "run.log_string_series(\n",
    "    data={\n",
    "        \"status\": \"Starting training\",\n",
    "    },\n",
    "    step=0,\n",
    ")\n",
    "\n",
    "for step in range(1, 10):\n",
    "    run.log_string_series(\n",
    "        data={\n",
    "            \"status\": f\"Training {step=}\",\n",
    "        },\n",
    "        step=step,\n",
    "    )\n",
    "\n",
    "run.log_string_series(\n",
    "    data={\n",
    "        \"status\": \"Training complete!\",\n",
    "    },\n",
    "    step=10,\n",
    ")"
   ]
  },
  {
   "cell_type": "markdown",
   "metadata": {},
   "source": [
    "## Close the run\n",
    "\n",
    "Once you're done logging metrics, to stop the run, use the `close()` method. This ensures that all pending operations are processed.\n"
   ]
  },
  {
   "cell_type": "code",
   "execution_count": null,
   "metadata": {},
   "outputs": [],
   "source": [
    "run.close()"
   ]
  },
  {
   "cell_type": "markdown",
   "metadata": {},
   "source": [
    "## Next steps\n",
    "\n",
    "You can analyze runs by creating custom table views, dashboards, and reports.\n",
    "\n",
    "To learn more, [see the docs](https://docs.neptune.ai/analyze_runs).\n",
    "\n",
    "You can also explore a sample, read-only project:\n",
    "- [Custom view](https://scale.neptune.ai/o/examples/org/quickstart/runs/table?viewId=9ea24429-7823-477e-a740-aa667c66a314)\n",
    "- [Dashboard](https://scale.neptune.ai/o/examples/org/quickstart/runs/details?viewId=9ea24429-7823-477e-a740-aa667c66a314&detailsTab=dashboard&dashboardId=9ea2595e-90a2-412e-964a-1840955af6f6&runIdentificationKey=QUICK-10&type=run)\n",
    "- [Report](https://scale.neptune.ai/o/examples/org/quickstart/reports/9ea26258-2aed-4441-9b58-bab619215f6f)"
   ]
  }
 ],
 "metadata": {
  "kernelspec": {
   "display_name": "neptune_scale_py_312_base",
   "language": "python",
   "name": "python3"
  },
  "language_info": {
   "codemirror_mode": {
    "name": "ipython",
    "version": 3
   },
   "file_extension": ".py",
   "mimetype": "text/x-python",
   "name": "python",
   "nbconvert_exporter": "python",
   "pygments_lexer": "ipython3",
   "version": "3.12.3"
  }
 },
 "nbformat": 4,
 "nbformat_minor": 2
}
