{
 "cells": [
  {
   "cell_type": "markdown",
   "metadata": {},
   "source": [
    "In this example, we show how you can use Neptune to create forks from previous runs when/if;\n",
    "1. Create a new run (fork) from any previously saved checkpoint with a different set of hyperparameters\n",
    "2. Your training run experiences training instability and you'd like to restart a new run from a previous checkpoint\n",
    "3. A drop in hardware causes training problems and you need to restart the training run"
   ]
  }
 ],
 "metadata": {
  "language_info": {
   "name": "python"
  }
 },
 "nbformat": 4,
 "nbformat_minor": 2
}
