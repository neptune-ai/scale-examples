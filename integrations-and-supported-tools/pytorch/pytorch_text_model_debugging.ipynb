{
 "cells": [
  {
   "cell_type": "markdown",
   "metadata": {},
   "source": [
    "# Neptune + PyTorch\n",
    "\n",
    "## Logging and Visualizing debugging metrics with Neptune\n",
    "\n",
    "### Introduction\n",
    "\n",
    "See how Neptune Scale can be used for pre-training models like foundation models by tracking hundreds of metrics. This example is designed to be used as a code recipe for you to re-use sections with your own code to edit to adapt to your own model training needs. \n",
    "\n",
    "This guide will show you how to:\n",
    "- Initialize the Neptune Run object and log configuration parameters\n",
    "- Log standard loss and accuracy metrics to Neptune\n",
    "- Log debugging metrics during model training such as;\n",
    "    * Activations per layer\n",
    "    * Gradients (mean and std) per layer"
   ]
  },
  {
   "cell_type": "markdown",
   "metadata": {},
   "source": [
    "### Install Dependencies and Import Libraries"
   ]
  },
  {
   "cell_type": "code",
   "execution_count": null,
   "metadata": {},
   "outputs": [],
   "source": [
    "# Install dependencies\n",
    "! pip install -q -U neptune_scale torch datasets"
   ]
  },
  {
   "cell_type": "code",
   "execution_count": null,
   "metadata": {},
   "outputs": [
    {
     "name": "stderr",
     "output_type": "stream",
     "text": [
      "c:\\Users\\leo.breedt\\miniconda3\\envs\\neptune_scale_py_312_base\\Lib\\site-packages\\tqdm\\auto.py:21: TqdmWarning: IProgress not found. Please update jupyter and ipywidgets. See https://ipywidgets.readthedocs.io/en/stable/user_install.html\n",
      "  from .autonotebook import tqdm as notebook_tqdm\n"
     ]
    }
   ],
   "source": [
    "# Import libraries\n",
    "import torch\n",
    "import torch.nn as nn\n",
    "import torch.optim as optim\n",
    "from torch.utils.data import Dataset, DataLoader\n",
    "import numpy as np\n",
    "from collections import Counter\n",
    "from datasets import load_dataset\n",
    "\n",
    "import matplotlib.pyplot as plt\n",
    "\n",
    "from neptune_scale import Run"
   ]
  },
  {
   "cell_type": "markdown",
   "metadata": {},
   "source": [
    "### Initialize Parameters"
   ]
  },
  {
   "cell_type": "code",
   "execution_count": 2,
   "metadata": {},
   "outputs": [],
   "source": [
    "# Initialize model, loss function, and optimizer\n",
    "\n",
    "params = {\n",
    "    \"optimizer\": \"Adam\",\n",
    "    \"batch_size\": 3,\n",
    "    \"learning_rate\": 0.001,\n",
    "    \"epochs\": 5, \n",
    "    \"device\": torch.device(\"cuda\" if torch.cuda.is_available() else \"cpu\"),\n",
    "    \"input_features\": 256,\n",
    "    \"embed_size\": 1000,\n",
    "    \"hidden_size\": 256, # hidden size for the LSTM\n",
    "    \"dropout_prob\": 0.3,\n",
    "    \"num_lstm_layers\": 3\n",
    "}"
   ]
  },
  {
   "cell_type": "markdown",
   "metadata": {},
   "source": [
    "## Download or use next token prediction dataset\n",
    "The dataset used in this example is taken from [HuggingFace](https://huggingface.co/datasets/Na0s/Next_Token_Prediction_dataset). In this example, you can increase the size of the dataset to test the logging capabilities of Neptune, but note that increasing the dataset size will increase the time taken for the full dataset to download. The current setup only downloads the first 10 parquet files from the Hugging Face public dataset. "
   ]
  },
  {
   "cell_type": "code",
   "execution_count": 10,
   "metadata": {},
   "outputs": [
    {
     "name": "stdout",
     "output_type": "stream",
     "text": [
      "DatasetDict({\n",
      "    train: Dataset({\n",
      "        features: ['text', 'meta', '__index_level_0__', 'input_ids', 'attention_mask', 'labels'],\n",
      "        num_rows: 81926\n",
      "    })\n",
      "    validation: Dataset({\n",
      "        features: ['text', 'meta', '__index_level_0__', 'input_ids', 'attention_mask', 'labels'],\n",
      "        num_rows: 9347\n",
      "    })\n",
      "})\n",
      "DatasetDict({\n",
      "    train: Dataset({\n",
      "        features: ['text', 'meta', '__index_level_0__', 'input_ids', 'attention_mask', 'labels'],\n",
      "        num_rows: 8412\n",
      "    })\n",
      "    test: Dataset({\n",
      "        features: ['text', 'meta', '__index_level_0__', 'input_ids', 'attention_mask', 'labels'],\n",
      "        num_rows: 935\n",
      "    })\n",
      "})\n"
     ]
    }
   ],
   "source": [
    "# For the example, download a random subset of 10% of the original dataset\n",
    "base_url = \"https://huggingface.co/datasets/Na0s/Next_Token_Prediction_dataset/resolve/main/data/\"\n",
    "data_files = {\"train\": base_url + \"train-00001-of-00067.parquet\", # download only the first 10 files from the HF dataset\n",
    "              \"validation\": base_url + \"validation-00000-of-00001.parquet\"} #doanload the complete validation dataset\n",
    "\n",
    "data_subset = load_dataset(\"parquet\", data_files = data_files, num_proc=4)\n",
    "# validation_subset = load_dataset(\"parquet\", data_files = {\"validation\": base_url + \"validation-00000-of-00001.parquet\"}, num_proc=4, split=[\"validation[:5%]\"])\n",
    "validation_subset = data_subset.get(\"validation\").train_test_split(test_size=0.1)\n",
    "print(data_subset)\n",
    "print(validation_subset)"
   ]
  },
  {
   "cell_type": "code",
   "execution_count": 11,
   "metadata": {},
   "outputs": [
    {
     "name": "stdout",
     "output_type": "stream",
     "text": [
      "Vocabulary size: 128257\n"
     ]
    }
   ],
   "source": [
    "train_subset = data_subset[\"train\"].with_format(type=\"torch\", columns=[\"text\", \"input_ids\", \"labels\"]) # HF provides methods to convert datatypes to tensors\n",
    "validation_subset = validation_subset[\"test\"].with_format(type=\"torch\", columns=[\"text\", \"input_ids\", \"labels\"]) # HF provides methods to convert datatypes to tensors\n",
    "\n",
    "train_dataloader = DataLoader(train_subset, batch_size=8, shuffle=True)\n",
    "val_dataloader = DataLoader(validation_subset, batch_size=8, shuffle=True)\n",
    "\n",
    "# Determine the vocab size of the dataset\n",
    "# Flatten the list of tokenized sentences into one long list of token IDs\n",
    "all_tokens = [token for sentence in data_subset[\"train\"][\"input_ids\"] for token in sentence]\n",
    "\n",
    "# Get unique token IDs\n",
    "# unique_tokens = set(all_tokens)\n",
    "\n",
    "# Vocab size is the number of unique tokens\n",
    "vocab_size = max(all_tokens) + 1 # Add 1 since token ID's start from zero\n",
    "params[\"vocab_size\"] = vocab_size\n",
    "print(f\"Vocabulary size: {vocab_size}\")"
   ]
  },
  {
   "cell_type": "code",
   "execution_count": null,
   "metadata": {},
   "outputs": [],
   "source": [
    "# TODO - capture the folowings; attentions, learning rate (per layer if needed)\n",
    "    # complete - activations, grad norms, gradients - weights+biases, loss - agg\n",
    "# TODO - capture per layer losses\n",
    "# TODO - increase number of layers\n",
    "# TODO - Adding dropout to demonstrate the effects of regularization\n",
    "# TODO - batch normalization\n",
    "# TODO - add class for tracking activations, gradients, etc. automatically\n",
    "# TODO - investigate packages that help with tracking layer-wise information\n",
    "# TODO - visualize layer-wise information, activations, gradients etc. (use as example to share with product)\n",
    "# TODO - update hooks for model, ensure tracking correct information"
   ]
  },
  {
   "cell_type": "markdown",
   "metadata": {},
   "source": [
    "## Importance of Logging Debugging Metrics\n",
    "\n",
    "During model training, capturing valuable information from each layer can offer critical insights into the model's learning process, identify potential issues, and guide improvements. Monitoring certain metrics and activations helps diagnose common problems such as vanishing gradients, overfitting, or underfitting. Below are key metrics to track from each layer:\n",
    "\n",
    "### Key Metrics to Capture from Each Layer:\n",
    "\n",
    "- **Activations**\n",
    "  - **What it shows**: Provides insight into how the model is processing data. Dead or exploding activations can indicate issues with training stability.\n",
    "  - **How to capture**: Use hooks to capture activations after each layer.\n",
    "\n",
    "- **Gradients**\n",
    "  - **What it shows**: Essential for diagnosing vanishing or exploding gradients. Small gradients may indicate vanishing gradients, while large ones can signal instability.\n",
    "  - **How to capture**: Use hooks to capture gradients during backpropagation.\n",
    "\n",
    "- **Weights and Biases**\n",
    "  - **What it shows**: Tracks how the model’s parameters evolve during training. Large or small weights may indicate the need for better regularization or adjustments in learning rate.\n",
    "  - **How to capture**: Extract directly from the model’s parameters.\n",
    "\n",
    "- **Layer-wise Loss**\n",
    "  - **What it shows**: Identifies which parts of the network contribute more to the overall loss, aiding debugging and optimization.\n",
    "  - **How to capture**: Monitor outputs from each layer and compare with the target.\n",
    "\n",
    "- **Learning Rate per Layer**\n",
    "  - **What it shows**: Helpful if using techniques like Layer-wise Learning Rate Decay (L2LRD). Tracking this can provide insight into the layer-specific learning rate.\n",
    "  - **How to capture**: Manually track based on optimizer settings.\n",
    "\n",
    "- **Layer Output Norms**\n",
    "  - **What it shows**: The L2-norm of layer outputs can highlight issues like gradient explosion or vanishing gradients.\n",
    "  - **How to capture**: Compute the L2-norm for each layer’s output.\n",
    "\n",
    "- **Activation Distributions**\n",
    "  - **What it shows**: Helps diagnose saturation issues, especially with ReLU activations that may lead to dead neurons.\n",
    "  - **How to capture**: Visualize or compute statistical summaries using tools like matplotlib or seaborn.\n",
    "\n",
    "- **Feature Maps (for Convolutional Layers)**\n",
    "  - **What it shows**: Offers insights into how convolutional layers detect specific patterns in the data.\n",
    "  - **How to capture**: Visualize feature maps after convolutional layers using libraries like matplotlib.\n"
   ]
  },
  {
   "cell_type": "markdown",
   "metadata": {},
   "source": [
    "### Define PyTorch Model Architecture and Helper functions\n",
    "We define a simple LLM model architecture using PyTorch. Since this is a text-based example, we use a mebedding layer, an LSTM layer and a fully connected layer. This architecture can be adjusted to your needs and increased in size when testing the workflow."
   ]
  },
  {
   "cell_type": "code",
   "execution_count": null,
   "metadata": {},
   "outputs": [],
   "source": [
    "# Define the simple LLM model with LSTM\n",
    "class SimpleLLM(nn.Module):\n",
    "    def __init__(self, vocab_size, embed_size, hidden_size, num_layers):\n",
    "        super(SimpleLLM, self).__init__()\n",
    "        self.embedding = nn.Embedding(vocab_size, embed_size)\n",
    "        self.lstm = nn.LSTM(embed_size, 512, num_layers = num_layers, dropout = 0.3, batch_first=True)\n",
    "        self.fc1 = nn.Linear(512, hidden_size)\n",
    "        self.fc2 = nn.Linear(hidden_size, vocab_size)\n",
    "\n",
    "        # Initialize activations dictionary to store layer activations\n",
    "        self.activations = {}\n",
    "\n",
    "        ## Registering hooks to track activations\n",
    "        self.hooks = []\n",
    "        self.hooks.append(self.lstm.register_forward_hook(self.save_activation(\"lstm\")))\n",
    "        self.hooks.append(self.fc1.register_forward_hook(self.save_activation(\"fc1\")))\n",
    "        self.hooks.append(self.fc2.register_forward_hook(self.save_activation(\"fc2\")))\n",
    "\n",
    "        ## Registering hooks to track gradients\n",
    "        #self.hooks.append(self.lstm.register_full_backward_hook(self.save_gradient(\"lstm\")))\n",
    "        #self.hooks.append(self.fc1.register_full_backward_hook(self.save_gradient(\"fc1\")))\n",
    "        #self.hooks.append(self.fc2.register_full_backward_hook(self.save_gradient(\"fc2\")))\n",
    "        \n",
    "    def forward(self, x):\n",
    "        x = self.embedding(x)\n",
    "        lstm_out, _ = self.lstm(x)  # LSTM returns output and hidden/cell state tuple\n",
    "        out = self.fc1(lstm_out) # Use the last output from the LSTM\n",
    "        out = self.fc2(out)\n",
    "        return out\n",
    "    \n",
    "    # Function to save activations\n",
    "    def save_activation(self, name):\n",
    "        def hook(model, input, output):\n",
    "            self.activations[name] = output\n",
    "        return hook\n",
    "    \n",
    "    def get_activations(self):\n",
    "        return self.activations\n",
    "\n",
    "    def clear_activations(self):\n",
    "        self.activations = {}\n",
    "\n",
    "    # Function to save gradients TODO: check where gradients should be calculated\n",
    "    def save_gradient(self, name):\n",
    "        def hook(module, grad_input, grad_output):\n",
    "            self.gradients[name] = grad_output[0]  # Save gradient output in the dictionary\n",
    "        return hook\n",
    "    \n",
    "    def get_gradients(self):\n",
    "        return self.gradients\n",
    "    \n",
    "    def clear_gradients(self):\n",
    "        self.gradients = {}\n",
    "\n",
    "# Function to evaluate the model after each epoch/step\n",
    "def evaluate(model, val_dataloader, criterion, device, vocab_size):\n",
    "    model.eval()  # Set the model to evaluation mode\n",
    "    total_loss = 0\n",
    "    with torch.no_grad():  # Disable gradient calculation for validation\n",
    "        for batch in val_dataloader:\n",
    "            input_ids = batch['input_ids'].to(device)\n",
    "            labels = batch['labels'].to(device)\n",
    "\n",
    "            # Forward pass for validation\n",
    "            logits = model(input_ids)  # Shape: (batch_size, seq_len, vocab_size)\n",
    "            \n",
    "            # Calculate the loss\n",
    "            loss = criterion(logits.view(-1, vocab_size), labels.view(-1))\n",
    "            total_loss += loss.item()\n",
    "\n",
    "    avg_val_loss = total_loss / len(val_dataloader)\n",
    "    return avg_val_loss"
   ]
  },
  {
   "cell_type": "code",
   "execution_count": 25,
   "metadata": {},
   "outputs": [],
   "source": [
    "# Define the simple LLM model with LSTM\n",
    "class SimpleLLM(nn.Module):\n",
    "    def __init__(self, vocab_size, embed_size, hidden_size, num_layers):\n",
    "        super(SimpleLLM, self).__init__()\n",
    "        self.embedding = nn.Embedding(vocab_size, embed_size)\n",
    "        self.lstm = nn.LSTM(embed_size, 512, num_layers = num_layers, dropout = 0.3, batch_first=True)\n",
    "        self.fc1 = nn.Linear(512, hidden_size)\n",
    "        self.fc2 = nn.Linear(hidden_size, vocab_size)\n",
    "        \n",
    "    def forward(self, x):\n",
    "        x = self.embedding(x)\n",
    "        lstm_out, _ = self.lstm(x)  # LSTM returns output and hidden/cell state tuple\n",
    "        out = self.fc1(lstm_out) # Use the last output from the LSTM\n",
    "        out = self.fc2(out)\n",
    "        return out\n",
    "    \n",
    "# model = SimpleLLM(params[\"vocab_size\"], params[\"embed_size\"], params[\"hidden_size\"], params[\"num_lstm_layers\"])\n",
    "\n",
    "# A class to manage hooks for activations and gradients\n",
    "class HookManager:\n",
    "    def __init__(self, model):\n",
    "        self.model = model\n",
    "        self.hooks = []\n",
    "        self.activations = {}\n",
    "        self.gradients = {}\n",
    "\n",
    "    # Function to save activations\n",
    "    def save_activation(self, name):\n",
    "        def hook(module, input, output):\n",
    "            self.activations[name] = output\n",
    "        return hook\n",
    "\n",
    "    # Function to save gradients (registering hooks for the model parameters)\n",
    "    def save_gradient(self, name):\n",
    "        def hook(module, grad_input, grad_output):\n",
    "            self.gradients[name] = grad_output[0]\n",
    "        return hook\n",
    "\n",
    "    # Function to register hooks for activations and gradients\n",
    "    def register_hooks(self):\n",
    "        # Register forward hooks for activations\n",
    "        for name, module in self.model.named_modules():\n",
    "            self.hooks.append(module.register_forward_hook(self.save_activation(name)))\n",
    "\n",
    "        # Register backward hooks for gradients\n",
    "        for name, module in self.model.named_modules():\n",
    "            if isinstance(module, (nn.LSTM, nn.Linear)): # You can add more layer types here\n",
    "                self.hooks.append(module.register_full_backward_hook(self.save_gradient(name)))\n",
    "\n",
    "    # Function to clear activations and gradients after use\n",
    "    def clear(self):\n",
    "        self.activations = {}\n",
    "        self.gradients = {}\n",
    "\n",
    "    # Function to get activations\n",
    "    def get_activations(self):\n",
    "        return self.activations\n",
    "\n",
    "    # Function to get gradients\n",
    "    def get_gradients(self):\n",
    "        return self.gradients\n",
    "\n",
    "# Function to evaluate the model after each epoch/step\n",
    "def evaluate(model, val_dataloader, criterion, device, vocab_size):\n",
    "    model.eval()  # Set the model to evaluation mode\n",
    "    total_loss = 0\n",
    "    with torch.no_grad():  # Disable gradient calculation for validation\n",
    "        for batch in val_dataloader:\n",
    "            input_ids = batch['input_ids'].to(device)\n",
    "            labels = batch['labels'].to(device)\n",
    "\n",
    "            # Forward pass for validation\n",
    "            logits = model(input_ids)  # Shape: (batch_size, seq_len, vocab_size)\n",
    "            \n",
    "            # Calculate the loss\n",
    "            loss = criterion(logits.view(-1, vocab_size), labels.view(-1))\n",
    "            total_loss += loss.item()\n",
    "\n",
    "    avg_val_loss = total_loss / len(val_dataloader)\n",
    "    return avg_val_loss"
   ]
  },
  {
   "cell_type": "markdown",
   "metadata": {},
   "source": [
    "Everytime a new LSTM layer is added when updating the `num_lstm_layers` parameter is changed, 12 new metrics will be logged which correspond to mean, std and norm that are calculated. "
   ]
  },
  {
   "cell_type": "code",
   "execution_count": 31,
   "metadata": {},
   "outputs": [],
   "source": [
    "# Define Neptune parameters\n",
    "from neptune_scale import Run\n",
    "from uuid import uuid4\n",
    "\n",
    "run = Run(\n",
    "    project = \"leo/pytorch-tutorial\",\n",
    "    run_id=f\"pytorch-text-{uuid4()}\"\n",
    "    )\n",
    "\n",
    "run.log_configs(\n",
    "    {\n",
    "        \"config/learning_rate\": params[\"learning_rate\"],\n",
    "        \"config/optimizer\": params[\"optimizer\"],\n",
    "        \"config/batch_size\": params[\"batch_size\"],\n",
    "        \"config/epochs\": params[\"epochs\"],\n",
    "        \"config/num_lstm_layers\" : params[\"num_lstm_layers\"],\n",
    "        # \"data/vocab_size\": params[\"vocab_size\"],\n",
    "        \"data/embed_size\": params[\"embed_size\"]\n",
    "    }\n",
    ")\n",
    "\n",
    "run.add_tags(tags=[params[\"optimizer\"]], group_tags=True)\n",
    "run.add_tags(tags=[\"text\", \"LLM\", \"Simple\"])"
   ]
  },
  {
   "cell_type": "code",
   "execution_count": null,
   "metadata": {},
   "outputs": [],
   "source": [
    "debug_metrics = {}\n",
    "\n",
    "# Initialize model and optimizer\n",
    "model = SimpleLLM(params[\"vocab_size\"], params[\"embed_size\"], params[\"hidden_size\"], params[\"num_lstm_layers\"])\n",
    "optimizer = optim.Adam(model.parameters(), lr = params[\"learning_rate\"])\n",
    "criterion = nn.CrossEntropyLoss(ignore_index=-100) # Ignore the buffering index of -100 in the dataset\n",
    "\n",
    "hook_manager = HookManager(model)\n",
    "hook_manager.register_hooks()\n",
    "\n",
    "device = torch.device('cuda' if torch.cuda.is_available() else 'cpu')\n",
    "model.to(device)\n",
    "step_counter = 0\n",
    "\n",
    "# Training loop\n",
    "for epoch in range(params[\"epochs\"]):\n",
    "    total_loss = 0\n",
    "    for batch in train_dataloader:\n",
    "        model.train()\n",
    "        step_counter += 1\n",
    "        hook_manager.clear()\n",
    "\n",
    "        input_ids = batch['input_ids'].to(device)\n",
    "        labels = batch['labels'].to(device)\n",
    "        \n",
    "        optimizer.zero_grad()\n",
    "        \n",
    "        # Forward pass\n",
    "        logits = model(input_ids)\n",
    "        \n",
    "        # Compute the loss (ignore padding tokens by masking labels)\n",
    "        loss = criterion(logits.view(-1, vocab_size), labels.view(-1))\n",
    "        \n",
    "        # Backward pass and optimization\n",
    "        loss.backward()\n",
    "        optimizer.step()\n",
    "\n",
    "        \n",
    "        total_loss += loss.item()\n",
    "        print(f\"Step {step_counter} / {len(train_dataloader)}, Loss: {loss.item()}\")\n",
    "\n",
    "        if step_counter % 5 == 0: # Do not need to log validation at every step, although we can\n",
    "            val_loss = evaluate(model, val_dataloader, criterion, device, vocab_size)\n",
    "            print(f\"Step {step_counter}, Val_loss: {val_loss}\")\n",
    "\n",
    "            # Track activations\n",
    "            activations = hook_manager.get_activations()\n",
    "            for layer, activation in activations.items():\n",
    "                print(f\"Activations for {layer}: {activation[0].mean().item()}\")\n",
    "                debug_metrics[f\"layers/layer_{layer}/activation_mean\"] = activation[0].mean().item()\n",
    "                debug_metrics[f\"layers/layer_{layer}/activation_std\"] = activation[0].std().item()\n",
    "\n",
    "            # Track gradients with hooks\n",
    "            gradients = hook_manager.get_gradients()\n",
    "            for layer, gradient in gradients.items():\n",
    "               debug_metrics[f\"grad_hooks/{layer}\"] = gradient.mean().item()\n",
    "               print(f\"Gradients for {layer}: {gradient.mean().item()}\") # You can replace to use mean(), sum(), max() or min()\n",
    "               # simplified_gradient = gradient.mean(dim=(0, 1))\n",
    "               # print(f\"Summed Gradient for {layer}: {simplified_gradient}\")\n",
    "\n",
    "            # Track gradients per layer at each epoch\n",
    "            for name, param in model.named_parameters():\n",
    "                if param is not None:\n",
    "                    debug_metrics[f\"layers/layer_{name}_std\"] = param.grad.std().item()\n",
    "                    debug_metrics[f\"layers/layer_{name}_mean\"] = param.grad.mean().item()\n",
    "                    debug_metrics[f\"layers/layer_{name}_norm\"] = param.grad.norm().item() # L2 norm (Euclidean norm) of the gradients\n",
    "\n",
    "            # Output loss for this epoch\n",
    "            run.log_metrics(\n",
    "                data = {\n",
    "                    \"metrics/train/loss\": loss.item(),\n",
    "                    \"metrics/validation/loss\": val_loss,\n",
    "                    \"epoch/value\": epoch,\n",
    "                    **debug_metrics\n",
    "                },\n",
    "                step = step_counter\n",
    "            )\n",
    "    print(f\"Epoch {epoch + 1}, Loss: {total_loss / len(train_dataloader)}\")\n",
    "\n",
    "# test_loss = evaluate_model(model, test_input, test_target, params[\"vocab_size\"])\n",
    "# print(f'Test Loss: {test_loss:.4f}')\n"
   ]
  },
  {
   "cell_type": "code",
   "execution_count": 33,
   "metadata": {},
   "outputs": [
    {
     "name": "stderr",
     "output_type": "stream",
     "text": [
      "neptune:INFO: Waiting for all operations to be processed\n",
      "neptune:WARNING: No timeout specified. Waiting indefinitely\n",
      "neptune:INFO: All operations were processed\n"
     ]
    }
   ],
   "source": [
    "\n",
    "run.close()"
   ]
  },
  {
   "cell_type": "code",
   "execution_count": null,
   "metadata": {},
   "outputs": [
    {
     "ename": "KeyError",
     "evalue": "0",
     "output_type": "error",
     "traceback": [
      "\u001b[1;31m---------------------------------------------------------------------------\u001b[0m",
      "\u001b[1;31mKeyError\u001b[0m                                  Traceback (most recent call last)",
      "Cell \u001b[1;32mIn[45], line 3\u001b[0m\n\u001b[0;32m      1\u001b[0m \u001b[38;5;66;03m# After training, you can analyze the activations and gradients\u001b[39;00m\n\u001b[0;32m      2\u001b[0m \u001b[38;5;66;03m# Example: Plot the activations of the LSTM layer\u001b[39;00m\n\u001b[1;32m----> 3\u001b[0m layer_name, activation \u001b[38;5;241m=\u001b[39m \u001b[43mactivations\u001b[49m\u001b[43m[\u001b[49m\u001b[38;5;241;43m0\u001b[39;49m\u001b[43m]\u001b[49m  \u001b[38;5;66;03m# Assuming lstm activation\u001b[39;00m\n\u001b[0;32m      4\u001b[0m \u001b[38;5;28mprint\u001b[39m(\u001b[38;5;124mf\u001b[39m\u001b[38;5;124m\"\u001b[39m\u001b[38;5;124mActivation for \u001b[39m\u001b[38;5;132;01m{\u001b[39;00mlayer_name\u001b[38;5;132;01m}\u001b[39;00m\u001b[38;5;124m layer: \u001b[39m\u001b[38;5;124m\"\u001b[39m, activation)\n\u001b[0;32m      6\u001b[0m \u001b[38;5;66;03m# Plotting histogram of activations of the LSTM layer\u001b[39;00m\n",
      "\u001b[1;31mKeyError\u001b[0m: 0"
     ]
    }
   ],
   "source": [
    "\n",
    "# After training, you can analyze the activations and gradients\n",
    "# Example: Plot the activations of the LSTM layer\n",
    "layer_name, activation = activations[0]  # Assuming lstm activation\n",
    "print(f\"Activation for {layer_name} layer: \", activation)\n",
    "\n",
    "# Plotting histogram of activations of the LSTM layer\n",
    "plt.hist(activation[0].detach().numpy().flatten(), bins=100, alpha=0.7, color='b', label='LSTM Activations')\n",
    "plt.title(f\"Activation Distribution for {layer_name}\")\n",
    "plt.xlabel(\"Activation Value\")\n",
    "plt.ylabel(\"Frequency\")\n",
    "plt.legend()\n",
    "plt.show()\n",
    "\n",
    "# Example: Plot the gradients of the LSTM layer\n",
    "layer_name, grad = gradients[0]  # Assuming lstm gradient\n",
    "print(f\"Gradient for {layer_name} layer: \", grad[0].shape)\n",
    "\n",
    "# Plotting histogram of gradients of the LSTM layer\n",
    "plt.hist(grad[0].numpy().flatten(), bins=100, alpha=0.7, color='r', label='LSTM Gradients')\n",
    "plt.title(f\"Gradient Distribution for {layer_name}\")\n",
    "plt.xlabel(\"Gradient Value\")\n",
    "plt.ylabel(\"Frequency\")\n",
    "plt.legend()\n",
    "plt.show()\n"
   ]
  },
  {
   "cell_type": "code",
   "execution_count": 17,
   "metadata": {},
   "outputs": [
    {
     "name": "stdout",
     "output_type": "stream",
     "text": [
      "Activation for fc layer:  torch.Size([3, 5, 5000])\n"
     ]
    },
    {
     "data": {
      "image/png": "[encoded data removed]",
      "text/plain": [
       "<Figure size 640x480 with 1 Axes>"
      ]
     },
     "metadata": {},
     "output_type": "display_data"
    },
    {
     "name": "stdout",
     "output_type": "stream",
     "text": [
      "Gradient for lstm layer:  torch.Size([3, 5, 256])\n"
     ]
    },
    {
     "data": {
      "image/png": "[encoded data removed]",
      "text/plain": [
       "<Figure size 640x480 with 1 Axes>"
      ]
     },
     "metadata": {},
     "output_type": "display_data"
    }
   ],
   "source": [
    "\n",
    "# Example: Plot the activations of the final Linear layer\n",
    "layer_name, activation = activations[1]  # Assuming fc activation\n",
    "print(f\"Activation for {layer_name} layer: \", activation.shape)\n",
    "\n",
    "# Plotting histogram of activations of the final Linear layer\n",
    "plt.hist(activation.detach().numpy().flatten(), bins=100, alpha=0.7, color='g', label='FC Activations')\n",
    "plt.title(f\"Activation Distribution for {layer_name}\")\n",
    "plt.xlabel(\"Activation Value\")\n",
    "plt.ylabel(\"Frequency\")\n",
    "plt.legend()\n",
    "plt.show()\n",
    "\n",
    "# Example: Plot the gradients of the final Linear layer\n",
    "layer_name, grad = gradients[1]  # Assuming fc gradient\n",
    "print(f\"Gradient for {layer_name} layer: \", grad[0].shape)\n",
    "\n",
    "# Plotting histogram of gradients of the final Linear layer\n",
    "plt.hist(grad[0].numpy().flatten(), bins=100, alpha=0.7, color='y', label='FC Gradients')\n",
    "plt.title(f\"Gradient Distribution for {layer_name}\")\n",
    "plt.xlabel(\"Gradient Value\")\n",
    "plt.ylabel(\"Frequency\")\n",
    "plt.legend()\n",
    "plt.show()\n"
   ]
  }
 ],
 "metadata": {
  "kernelspec": {
   "display_name": "neptune_scale_py_312_base",
   "language": "python",
   "name": "python3"
  },
  "language_info": {
   "codemirror_mode": {
    "name": "ipython",
    "version": 3
   },
   "file_extension": ".py",
   "mimetype": "text/x-python",
   "name": "python",
   "nbconvert_exporter": "python",
   "pygments_lexer": "ipython3",
   "version": "3.12.3"
  }
 },
 "nbformat": 4,
 "nbformat_minor": 2
}
