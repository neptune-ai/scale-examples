{
 "cells": [
  {
   "cell_type": "code",
   "execution_count": null,
   "id": "8982b6ee",
   "metadata": {},
   "outputs": [],
   "source": [
    "# Install required packages\n",
    "# IMPORTANT:\n",
    "# torch version here is for CUDA 11.5 (cu115).\n",
    "# If your CUDA version is different, please visit https://pytorch.org/get-started/locally/ and replace this line with the appropriate command.\n",
    "\n",
    "!pip install torch==1.10.2+cu115 torchvision==0.11.3+cu115 torchaudio==0.10.2+cu115 -f https://download.pytorch.org/whl/cu115/torch_stable.html\n",
    "!pip install transformers==4.38.2 datasets==3.5.0 neptune-scale tqdm numpy<2.0 pandas matplotlib scikit-learn notebook\n"
   ]
  },
  {
   "cell_type": "code",
   "execution_count": null,
   "id": "572eecf6",
   "metadata": {},
   "outputs": [],
   "source": [
    "%env NEPTUNE_API_TOKEN=\"YOUR_API_TOKEN\" # Replace before running\n",
    "%env NEPTUNE_PROJECT=\"YOUR_WORKSPACE/YOUR_PROJECT\" # Replace before running"
   ]
  },
  {
   "cell_type": "code",
   "execution_count": null,
   "id": "0",
   "metadata": {},
   "outputs": [],
   "source": [
    "import os\n",
    "import torch\n",
    "from transformers import BertTokenizer, BertForSequenceClassification\n",
    "from transformers import DataCollatorWithPadding\n",
    "from datasets import load_dataset\n",
    "from torch.utils.data import DataLoader\n",
    "from random import random\n",
    "from neptune_scale import Run\n",
    "from transformers import AdamW\n",
    "import torch.optim as optim"
   ]
  },
  {
   "cell_type": "code",
   "execution_count": null,
   "id": "1",
   "metadata": {},
   "outputs": [],
   "source": [
    "device = torch.device(\"cuda\" if torch.cuda.is_available() else \"cpu\")"
   ]
  },
  {
   "cell_type": "code",
   "execution_count": null,
   "id": "0a15de31",
   "metadata": {},
   "outputs": [],
   "source": [
    "configs = {\n",
    "    \"learning_rate\": 1e-3,\n",
    "    \"batch_size\": 8,\n",
    "    \"optimizer\": \"Adam\",\n",
    "    \"num_epochs\": 10,\n",
    "    \"seed\": 42,\n",
    "    \"dataset_name\": \"glue\",\n",
    "    \"dataset_config_name\": \"mrpc\",\n",
    "    \"model_name\": \"bert-base-uncased\"\n",
    "}\n"
   ]
  },
  {
   "cell_type": "markdown",
   "id": "2",
   "metadata": {},
   "source": [
    "# Step 1. Load and Preprocess Dataset\n",
    "We will use the GLUE dataset and transformers from HuggingFace. "
   ]
  },
  {
   "cell_type": "code",
   "execution_count": null,
   "id": "3",
   "metadata": {},
   "outputs": [],
   "source": [
    "dataset = load_dataset(configs[\"dataset_name\"], name=configs[\"dataset_config_name\"])\n",
    "tokenizer = BertTokenizer.from_pretrained(configs[\"model_name\"])\n",
    "\n",
    "\n",
    "\n",
    "def tokenize_function(examples):\n",
    "    return tokenizer(\n",
    "        examples[\"sentence1\"],\n",
    "        examples[\"sentence2\"],\n",
    "        truncation=True,\n",
    "        padding=\"longest\",\n",
    "        return_tensors=\"pt\",\n",
    "    )\n",
    "\n",
    "\n",
    "tokenized_datasets = dataset.map(tokenize_function, batched=True)\n",
    "tokenized_datasets.set_format(\n",
    "    type=\"torch\", columns=[\"input_ids\", \"attention_mask\", \"token_type_ids\", \"label\"]\n",
    ")"
   ]
  },
  {
   "cell_type": "markdown",
   "id": "4",
   "metadata": {},
   "source": [
    "# Step 2. Prepare the Dataloaders and load the Bert model for sequence classification\n"
   ]
  },
  {
   "cell_type": "code",
   "execution_count": null,
   "id": "5",
   "metadata": {},
   "outputs": [],
   "source": [
    "train_dataset = tokenized_datasets[\"train\"].shuffle(seed=configs[\"seed\"]).select(range(1000)) # Sample for demonstration\n",
    "\n",
    "data_collator = DataCollatorWithPadding(tokenizer=tokenizer)\n",
    "\n",
    "train_dataloader = DataLoader(train_dataset, shuffle=True, batch_size=configs[\"batch_size\"], collate_fn=data_collator)\n",
    "\n",
    "\n",
    "from transformers import BertConfig, BertForSequenceClassification\n",
    "\n",
    "# Random BERT config with no LayerNorm or Dropout\n",
    "config = BertConfig(\n",
    "    hidden_dropout_prob=0.0,\n",
    "    attention_probs_dropout_prob=0.0,\n",
    "    num_hidden_layers=12,\n",
    "    num_attention_heads=12,\n",
    "    hidden_size=768,\n",
    "    intermediate_size=3072,\n",
    "    layer_norm_eps=1e-12,\n",
    "    output_attentions=False,\n",
    "    output_hidden_states=False,\n",
    "    num_labels=2,\n",
    ")\n",
    "\n",
    "model = BertForSequenceClassification(config)  # Not pretrained\n",
    "model.to(device)"
   ]
  },
  {
   "cell_type": "markdown",
   "id": "6",
   "metadata": {},
   "source": [
    "# Step 3. Initialize Neptune for Logging\n"
   ]
  },
  {
   "cell_type": "code",
   "execution_count": null,
   "id": "7",
   "metadata": {},
   "outputs": [],
   "source": [
    "run = Run(\n",
    "    experiment_name=f\"gradient_tracking_lr={configs['learning_rate']}\",\n",
    ")\n",
    "\n",
    "# Log configs to Neptune\n",
    "run.log_configs(configs)\n",
    "\n",
    "run.add_tags([\"gradient_tracking\", \"pytorch\", \"transformers\"])"
   ]
  },
  {
   "cell_type": "markdown",
   "id": "8",
   "metadata": {},
   "source": [
    "# Step 4. Define the Gradient Norm Logging Function\n",
    "\n"
   ]
  },
  {
   "cell_type": "code",
   "execution_count": null,
   "id": "9",
   "metadata": {},
   "outputs": [],
   "source": [
    "def log_gradient_norms(model, step, log_every_n_steps=1):\n",
    "    \"\"\"\n",
    "    Logs L2 norm of gradients for model parameters every n steps using torch.no_grad.\n",
    "\n",
    "    Args:\n",
    "        model (torch.nn.Module): The neural network model.\n",
    "        step (int): The current training step or epoch, for tracking.\n",
    "        log_every_n_steps (int): Log only every n steps to reduce overhead.\n",
    "    \"\"\"\n",
    "\n",
    "    if step % log_every_n_steps != 0:\n",
    "        return  # Skip logging for this step\n",
    "\n",
    "    grad_norms = {}\n",
    "    with torch.no_grad():  # Prevent building a computation graph during norm computation\n",
    "        for name, param in model.named_parameters():\n",
    "            if param.grad is not None:\n",
    "                # Optional: filter layers if needed, e.g., encoder only\n",
    "                # if not name.startswith(\"encoder.layer.\"): continue\n",
    "                grad_norms[f\"gradients/{name}\"] = param.grad.norm().item()\n",
    "\n",
    "    run.log_metrics(grad_norms, step=step)\n"
   ]
  },
  {
   "cell_type": "markdown",
   "id": "10",
   "metadata": {},
   "source": [
    "# Step 5. Train the Model and Track Gradients\n"
   ]
  },
  {
   "cell_type": "code",
   "execution_count": null,
   "id": "11",
   "metadata": {},
   "outputs": [],
   "source": [
    "optimizer = optim.Adam(model.parameters(), lr=configs[\"learning_rate\"])\n",
    "\n",
    "model.train()\n",
    "for epoch in range(10):\n",
    "    for step, batch in enumerate(train_dataloader):\n",
    "        inputs = {k: v.to(device) for k, v in batch.items() if k in tokenizer.model_input_names}\n",
    "        labels = batch[\"label\"].to(device)\n",
    "        optimizer.zero_grad()\n",
    "        outputs = model(**inputs, labels=labels)\n",
    "        loss = outputs.loss\n",
    "        loss.backward()\n",
    "\n",
    "        # Log gradient norms\n",
    "        log_gradient_norms(model, step + epoch * len(train_dataloader))\n",
    "\n",
    "        optimizer.step()\n",
    "\n",
    "        # Log Loss to Neptune Scale\n",
    "        run.log_metrics({\"loss\": loss.item()}, step=step + epoch * len(train_dataloader))\n",
    "\n",
    "# Close the run\n",
    "run.close()"
   ]
  }
 ],
 "metadata": {
  "kernelspec": {
   "display_name": "OCM",
   "language": "python",
   "name": "ocm"
  },
  "language_info": {
   "codemirror_mode": {
    "name": "ipython",
    "version": 3
   },
   "file_extension": ".py",
   "mimetype": "text/x-python",
   "name": "python",
   "nbconvert_exporter": "python",
   "pygments_lexer": "ipython3",
   "version": "3.9.7"
  }
 },
 "nbformat": 4,
 "nbformat_minor": 5
}
